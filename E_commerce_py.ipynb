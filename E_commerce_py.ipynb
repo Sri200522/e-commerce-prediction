{
  "nbformat": 4,
  "nbformat_minor": 0,
  "metadata": {
    "colab": {
      "provenance": [],
      "authorship_tag": "ABX9TyMphvH3hiLp/2bCFz8TKS2p",
      "include_colab_link": true
    },
    "kernelspec": {
      "name": "python3",
      "display_name": "Python 3"
    },
    "language_info": {
      "name": "python"
    }
  },
  "cells": [
    {
      "cell_type": "markdown",
      "metadata": {
        "id": "view-in-github",
        "colab_type": "text"
      },
      "source": [
        "<a href=\"https://colab.research.google.com/github/Sri200522/e-commerce-prediction/blob/main/E_commerce_py.ipynb\" target=\"_parent\"><img src=\"https://colab.research.google.com/assets/colab-badge.svg\" alt=\"Open In Colab\"/></a>"
      ]
    },
    {
      "cell_type": "code",
      "execution_count": null,
      "metadata": {
        "colab": {
          "base_uri": "https://localhost:8080/"
        },
        "id": "o1zxxvtnnfqM",
        "outputId": "efd0fc54-24bc-43ca-ab9c-ac60faa5ca4d"
      },
      "outputs": [
        {
          "output_type": "stream",
          "name": "stdout",
          "text": [
            "Requirement already satisfied: requests in /usr/local/lib/python3.11/dist-packages (2.32.3)\n",
            "Requirement already satisfied: beautifulsoup4 in /usr/local/lib/python3.11/dist-packages (4.13.3)\n",
            "Requirement already satisfied: charset-normalizer<4,>=2 in /usr/local/lib/python3.11/dist-packages (from requests) (3.4.1)\n",
            "Requirement already satisfied: idna<4,>=2.5 in /usr/local/lib/python3.11/dist-packages (from requests) (3.10)\n",
            "Requirement already satisfied: urllib3<3,>=1.21.1 in /usr/local/lib/python3.11/dist-packages (from requests) (2.3.0)\n",
            "Requirement already satisfied: certifi>=2017.4.17 in /usr/local/lib/python3.11/dist-packages (from requests) (2025.1.31)\n",
            "Requirement already satisfied: soupsieve>1.2 in /usr/local/lib/python3.11/dist-packages (from beautifulsoup4) (2.6)\n",
            "Requirement already satisfied: typing-extensions>=4.0.0 in /usr/local/lib/python3.11/dist-packages (from beautifulsoup4) (4.12.2)\n"
          ]
        }
      ],
      "source": [
        "!pip install requests beautifulsoup4"
      ]
    },
    {
      "cell_type": "code",
      "source": [
        "import requests\n",
        "from bs4 import BeautifulSoup\n",
        "\n",
        "def get_amazon_price(product_name):\n",
        "    url = f\"https://www.amazon.com/s?k={product_name}\"\n",
        "    headers = {\"User-Agent\": \"Mozilla/5.0 (Windows NT 10.0; Win64; x64)\"}\n",
        "    response = requests.get(url, headers=headers)\n",
        "    soup = BeautifulSoup(response.text, \"html.parser\")\n",
        "    try:\n",
        "        price = soup.find(\"span\", class_=\"a-price-whole\").text\n",
        "        return f\"Amazon: ${price}\"\n",
        "    except AttributeError:\n",
        "        return \"Amazon: Price not found\"\n",
        "\n",
        "def get_walmart_price(product_name):\n",
        "    url = f\"https://www.walmart.com/search?q={product_name}\"\n",
        "    headers = {\"User-Agent\": \"Mozilla/5.0 (Windows NT 10.0; Win64; x64)\"}\n",
        "    response = requests.get(url, headers=headers)\n",
        "    soup = BeautifulSoup(response.text, \"html.parser\")\n",
        "    try:\n",
        "        price = soup.find(\"span\", class_=\"price-characteristic\").text\n",
        "        return f\"Walmart: ${price}\"\n",
        "    except AttributeError:\n",
        "        return \"Walmart: Price not found\"\n",
        "\n",
        "def get_ebay_price(product_name):\n",
        "    url = f\"https://www.ebay.com/sch/i.html?_nkw={product_name}\"\n",
        "    headers = {\"User-Agent\": \"Mozilla/5.0 (Windows NT 10.0; Win64; x64)\"}\n",
        "    response = requests.get(url, headers=headers)\n",
        "    soup = BeautifulSoup(response.text, \"html.parser\")\n",
        "    try:\n",
        "        price = soup.find(\"span\", class_=\"s-item__price\").text\n",
        "        return f\"eBay: {price}\"\n",
        "    except AttributeError:\n",
        "        return \"eBay: Price not found\"\n",
        "\n",
        "def get_alibaba_price(product_name):\n",
        "    url = f\"https://www.alibaba.com/trade/search?SearchText={product_name}\"\n",
        "    headers = {\"User-Agent\": \"Mozilla/5.0 (Windows NT 10.0; Win64; x64)\"}\n",
        "    response = requests.get(url, headers=headers)\n",
        "    soup = BeautifulSoup(response.text, \"html.parser\")\n",
        "    try:\n",
        "        price = soup.find(\"div\", class_=\"elements-offer-price-normal__price\").text\n",
        "        return f\"Alibaba: {price}\"\n",
        "    except AttributeError:\n",
        "        return \"Alibaba: Price not found\"\n",
        "\n",
        "def compare_prices(product_name):\n",
        "    print(\"Fetching prices...\")\n",
        "    amazon_price = get_amazon_price(product_name)\n",
        "    walmart_price = get_walmart_price(product_name)\n",
        "    ebay_price = get_ebay_price(product_name)\n",
        "    alibaba_price = get_alibaba_price(product_name)\n",
        "\n",
        "    print(amazon_price)\n",
        "    print(walmart_price)\n",
        "    print(ebay_price)\n",
        "    print(alibaba_price)\n",
        "\n",
        "if __name__ == \"__main__\":\n",
        "    product = input(\"Enter product name: \")\n",
        "    compare_prices(product)\n"
      ],
      "metadata": {
        "colab": {
          "base_uri": "https://localhost:8080/"
        },
        "id": "_wFAzLlWnkpW",
        "outputId": "2a2afb71-fb37-4c19-d8dc-0bb4e040405c"
      },
      "execution_count": null,
      "outputs": [
        {
          "output_type": "stream",
          "name": "stdout",
          "text": [
            "Enter product name: soap\n",
            "Fetching prices...\n",
            "Amazon: $16.\n",
            "Walmart: Price not found\n",
            "eBay: $20.00\n",
            "Alibaba: Price not found\n"
          ]
        }
      ]
    }
  ]
}